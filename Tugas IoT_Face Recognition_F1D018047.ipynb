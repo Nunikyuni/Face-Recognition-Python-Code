{
 "cells": [
  {
   "cell_type": "code",
   "execution_count": 2,
   "id": "879e817b",
   "metadata": {},
   "outputs": [
    {
     "name": "stdout",
     "output_type": "stream",
     "text": [
      "Collecting opencv-python\n",
      "  Downloading opencv_python-4.5.2.52-cp38-cp38-win_amd64.whl (34.7 MB)\n",
      "Requirement already satisfied: numpy>=1.17.3 in c:\\users\\hp\\anaconda3\\lib\\site-packages (from opencv-python) (1.20.1)\n",
      "Installing collected packages: opencv-python\n",
      "Successfully installed opencv-python-4.5.2.52\n",
      "Note: you may need to restart the kernel to use updated packages.\n"
     ]
    }
   ],
   "source": [
    "pip install opencv-python"
   ]
  },
  {
   "cell_type": "code",
   "execution_count": 7,
   "id": "449dd820",
   "metadata": {},
   "outputs": [],
   "source": [
    "import cv2"
   ]
  },
  {
   "cell_type": "code",
   "execution_count": 8,
   "id": "b502319b",
   "metadata": {},
   "outputs": [],
   "source": [
    "scale_factor = 1.2\n",
    "min_neighbors = 3\n",
    "min_size = (50, 50)"
   ]
  },
  {
   "cell_type": "code",
   "execution_count": 9,
   "id": "04ae3e5b",
   "metadata": {},
   "outputs": [],
   "source": [
    "def detect():\n",
    "    cascade = cv2.CascadeClassifier(cv2.data.haarcascades+\"haarcascade_frontalface_alt.xml\")\n",
    "    eye_cascade = cv2.CascadeClassifier(cv2.data.haarcascades + 'haarcascade_eye.xml')\n",
    "    cap = cv2.VideoCapture(0)\n",
    "    while True:\n",
    "        ret, img = cap.read()\n",
    "        gray = cv2.cvtColor(img, cv2.COLOR_BGR2GRAY)\n",
    "        rects = cascade.detectMultiScale(gray, scaleFactor=scale_factor, minNeighbors=min_neighbors,minSize=min_size)\n",
    "        if len(rects) >= 0:\n",
    "            for (x, y, w, h) in rects:\n",
    "                cv2.rectangle(img, (x, y), (x + w, y + h), (0,0,255), 2)\n",
    "                roi_gray = gray[y:y+h, x:x+w]\n",
    "                cv2.putText(img, \"Ni Nyoman Wahyuni Indraswari\", (x, y-10), cv2.FONT_HERSHEY_SIMPLEX,\n",
    "                            0.75, (0,0,255), 2)\n",
    "                roi_color = img[y:y+h, x:x+w]\n",
    "                eyes = eye_cascade.detectMultiScale(roi_gray)\n",
    "                for (ex,ey,ew,eh) in eyes:\n",
    "                     cv2.rectangle(roi_color,(ex,ey),(ex+ew,ey+eh),(0,0,255),2)\n",
    "            cv2.imshow('Face Detection on Video', img)\n",
    "            if cv2.waitKey(1) & 0xFF == ord('n'):\n",
    "                break\n",
    "    cap.release()"
   ]
  },
  {
   "cell_type": "code",
   "execution_count": 10,
   "id": "77def8b1",
   "metadata": {},
   "outputs": [],
   "source": [
    "def main():\n",
    "    detect()\n",
    "    cv2.destroyAllWindows()\n",
    "if __name__=='__main__':\n",
    "    main()"
   ]
  },
  {
   "cell_type": "code",
   "execution_count": null,
   "id": "3836a84d",
   "metadata": {},
   "outputs": [],
   "source": []
  }
 ],
 "metadata": {
  "kernelspec": {
   "display_name": "Python 3",
   "language": "python",
   "name": "python3"
  },
  "language_info": {
   "codemirror_mode": {
    "name": "ipython",
    "version": 3
   },
   "file_extension": ".py",
   "mimetype": "text/x-python",
   "name": "python",
   "nbconvert_exporter": "python",
   "pygments_lexer": "ipython3",
   "version": "3.8.8"
  }
 },
 "nbformat": 4,
 "nbformat_minor": 5
}
